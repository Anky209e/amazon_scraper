{
 "cells": [
  {
   "cell_type": "code",
   "execution_count": 1,
   "metadata": {},
   "outputs": [],
   "source": [
    "from bs4 import BeautifulSoup\n",
    "import requests\n",
    "import re\n",
    "import pandas as pd"
   ]
  },
  {
   "cell_type": "code",
   "execution_count": 2,
   "metadata": {},
   "outputs": [],
   "source": [
    "HEADERS = (\n",
    "    {'User-Agent':\n",
    "           '''Chrome/44.0.2403.157 Safari/537.36''',\n",
    "                           'Accept-Language': 'en-US, en;q=0.5'}\n",
    "                           )"
   ]
  },
  {
   "cell_type": "code",
   "execution_count": 16,
   "metadata": {},
   "outputs": [],
   "source": [
    "def get_all_page_data(page_url:str):\n",
    "    \"\"\"\n",
    "    Provides All products data from page\\n\n",
    "    return: titles,prices,num_ratings,ratings,urls\\n\n",
    "    return_type: list\n",
    "    \"\"\"\n",
    "    webpage = requests.get(page_url, headers=HEADERS)\n",
    "    soup = BeautifulSoup(webpage.content, \"lxml\")\n",
    "\n",
    "    try:\n",
    "        titles = soup.findAll(\"span\",attrs={\"class\": 'a-size-medium a-color-base a-text-normal'})\n",
    "        prices = soup.findAll(\"span\",attrs={\"class\": 'a-price-whole'})\n",
    "        num_ratings = soup.findAll(\"span\",attrs={\"class\": 'a-size-base s-underline-text'})\n",
    "        ratings = soup.findAll(\"span\",attrs={\"class\": 'a-icon-alt'})\n",
    "        urls = soup.findAll(\"a\",attrs={\"class\": 'a-link-normal s-underline-text s-underline-link-text s-link-style a-text-normal'})\n",
    "\n",
    "        titles = [title.string for title in titles]\n",
    "        titles = [product_name.strip().replace(',', '') for product_name in titles]\n",
    "\n",
    "        prices = [price.string for price in prices]\n",
    "        num_ratings = [rating.string for rating in num_ratings]\n",
    "        ratings = [rating.string for rating in ratings]\n",
    "        urls= [url.get('href') for url in urls]\n",
    "\n",
    "    \n",
    "           \n",
    "    except AttributeError:\n",
    "        return None\n",
    "    \n",
    "    return titles,prices,num_ratings,ratings,urls\n"
   ]
  },
  {
   "cell_type": "code",
   "execution_count": 4,
   "metadata": {},
   "outputs": [],
   "source": [
    "def get__top_description(product_url):\n",
    "    \"\"\"\n",
    "    Returns Cleaned Description\n",
    "    \"\"\"\n",
    "    \n",
    "    webpage = requests.get(product_url, headers=HEADERS)\n",
    "    soup = BeautifulSoup(webpage.content, \"lxml\")\n",
    "    try:\n",
    "        descriptions = soup.findAll(\"ul\",attrs={\"class\": 'a-unordered-list a-vertical a-spacing-mini'})\n",
    "        full_desc = \"\"\n",
    "        for description in descriptions:\n",
    "            li_el = description.select('li > span')\n",
    "            for el in li_el:\n",
    "                full_desc += el.string\n",
    "        \n",
    "        full_desc = full_desc.replace(',',' ')\n",
    "    except AttributeError:\n",
    "        return \"NA\"\n",
    "    return full_desc\n",
    "        \n",
    "def get_product_description(url):\n",
    "    \"\"\"\n",
    "    Returns Full cleaned Product description\n",
    "    \"\"\"\n",
    "\n",
    "    webpage = requests.get(url, headers=HEADERS)\n",
    "    soup = BeautifulSoup(webpage.content, \"lxml\")\n",
    "    full_desc = \" \"\n",
    "    try:\n",
    "        product_disc = soup.find(\"div\",attrs={\"id\": 'aplus_feature_div'})\n",
    "        desc_tb = product_disc.select('div > p')\n",
    "        \n",
    "        for desc in desc_tb:\n",
    "            full_desc += str(desc.string)\n",
    "        \n",
    "        full_desc = full_desc.replace(\",\",\" \")\n",
    "        full_desc = full_desc.replace(\"None\",\" \")\n",
    "    except AttributeError:\n",
    "        full_desc = \"NAN\"\n",
    "\n",
    "    return full_desc"
   ]
  },
  {
   "cell_type": "code",
   "execution_count": 5,
   "metadata": {},
   "outputs": [],
   "source": [
    "def product_page_data(product_url):\n",
    "    \"\"\"\n",
    "    Return required data from product page\n",
    "    \"\"\"\n",
    "    product_url = f\"https://www.amazon.in{product_url}\"\n",
    "    description = get__top_description(product_url)\n",
    "    product_description = get_product_description(product_url)\n",
    "    asin = product_url[-10:]\n",
    "    webpage = requests.get(product_url, headers=HEADERS)\n",
    "    soup = BeautifulSoup(webpage.content, \"lxml\")\n",
    "    try:\n",
    "        # little flawed\n",
    "        manufacturer = soup.find(\"ul\",attrs={\"class\": 'a-unordered-list a-nostyle a-vertical a-spacing-none detail-bullet-list'})\n",
    "        manufacturer = manufacturer.select('li > span > span')[5].string\n",
    "    except AttributeError:\n",
    "        manufacturer = \"NAN\"\n",
    "    \n",
    "    return description,asin,manufacturer,product_description"
   ]
  },
  {
   "cell_type": "code",
   "execution_count": 6,
   "metadata": {},
   "outputs": [
    {
     "name": "stdout",
     "output_type": "stream",
     "text": [
      "==> Page No.:1\n",
      "==> Page No.:2\n"
     ]
    }
   ],
   "source": [
    "num_pages = 2\n",
    "\n",
    "all_page_data = {\n",
    "    'titles':[],\n",
    "    'prices':[],\n",
    "    'num_ratings':[],\n",
    "    'ratings':[],\n",
    "    'urls':[],\n",
    "    'asin':[],\n",
    "    'description':[],\n",
    "    'manufacturer':[],\n",
    "    'product_description':[]\n",
    "}\n",
    "for page_no in range(1,num_pages+1):\n",
    "    print(f\"==> Page No.:{page_no}\")\n",
    "    URL = f\"https://www.amazon.in/s?k=bags&page={page_no}&crid=2M096C61O4MLT&qid=1688717001&sprefix=ba%2Caps%2C283&ref=sr_pg_{page_no}\"\n",
    "\n",
    "    titles,prices,num_ratings,ratings,urls = get_all_page_data(URL)\n",
    "\n",
    "    all_page_data['titles'].extend(titles)\n",
    "    all_page_data['prices'].extend(prices)\n",
    "    all_page_data['num_ratings'].extend(num_ratings)\n",
    "    all_page_data['ratings'].extend(ratings)\n",
    "    all_page_data['urls'].extend(urls)"
   ]
  },
  {
   "cell_type": "code",
   "execution_count": 7,
   "metadata": {},
   "outputs": [],
   "source": [
    "total_urls = len(all_page_data['urls'])\n",
    "t = 0\n",
    "for url in all_page_data['urls']:\n",
    "    remaining_urls = total_urls - t\n",
    "    print(f\"Total Urls:{total_urls} --- Remaining Urls: {remaining_urls}\")\n",
    "    \n",
    "    description,asin,manufacturer,product_description = product_page_data(url)\n",
    "    all_page_data['description'].append(description)\n",
    "    all_page_data['asin'].append(asin)\n",
    "    all_page_data['manufacturer'].append(manufacturer)\n",
    "    all_page_data['product_description'].append(product_description)\n",
    "    t+=1"
   ]
  },
  {
   "cell_type": "code",
   "execution_count": 11,
   "metadata": {},
   "outputs": [
    {
     "data": {
      "text/plain": [
       "{'titles': [],\n",
       " 'prices': [],\n",
       " 'num_ratings': [],\n",
       " 'ratings': [],\n",
       " 'urls': [],\n",
       " 'asin': [],\n",
       " 'description': [],\n",
       " 'manufacturer': [],\n",
       " 'product_description': []}"
      ]
     },
     "execution_count": 11,
     "metadata": {},
     "output_type": "execute_result"
    }
   ],
   "source": [
    "all_page_data"
   ]
  },
  {
   "cell_type": "code",
   "execution_count": 9,
   "metadata": {},
   "outputs": [
    {
     "name": "stdout",
     "output_type": "stream",
     "text": [
      "titles: 6\n",
      "prices: 6\n",
      "num_ratings: 11\n",
      "ratings: 7\n",
      "urls: 4\n",
      "asin: 4\n",
      "description: 11\n",
      "manufacturer: 12\n",
      "product_description: 19\n"
     ]
    }
   ],
   "source": [
    "for key in all_page_data:\n",
    "    print(f\"{key}: {len(key)}\")"
   ]
  },
  {
   "cell_type": "code",
   "execution_count": 10,
   "metadata": {},
   "outputs": [],
   "source": [
    "data_df = pd.DataFrame.from_dict(all_page_data)\n",
    "data_df.to_csv(\"amazon_data.csv\")"
   ]
  }
 ],
 "metadata": {
  "kernelspec": {
   "display_name": "Python 3",
   "language": "python",
   "name": "python3"
  },
  "language_info": {
   "codemirror_mode": {
    "name": "ipython",
    "version": 3
   },
   "file_extension": ".py",
   "mimetype": "text/x-python",
   "name": "python",
   "nbconvert_exporter": "python",
   "pygments_lexer": "ipython3",
   "version": "3.10.8"
  },
  "orig_nbformat": 4
 },
 "nbformat": 4,
 "nbformat_minor": 2
}
